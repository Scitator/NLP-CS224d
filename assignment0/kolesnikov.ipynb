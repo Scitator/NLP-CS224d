{
 "cells": [
  {
   "cell_type": "markdown",
   "metadata": {},
   "source": [
    "**Инструкция по выполнению:**\n",
    "    \n",
    "Выполняйте задания прямо здесь, добавляйте ячейки если считаете нужным.\n",
    "\n",
    "Ячейки с кодом должны быть выполнены, в первую очередь мы будем проверять результаты их работы.\n",
    "\n",
    "В конце сохраните файл, переименуйте в  `your_last_name.ipynb` и перешлите нам на почту, указанную в письме."
   ]
  },
  {
   "cell_type": "markdown",
   "metadata": {},
   "source": [
    "### Построение графиков\n",
    "\n",
    "Matplotlib -- удобный пакет для построения графиков, \n",
    "директива `%matplotlib inline` включает отображение графиков в ячейке, ее достаточно включить один раз.\n",
    "\n",
    "Гайд по рисованию графиков есть например тут (http://www.scipy-lectures.org/intro/matplotlib/matplotlib.html)"
   ]
  },
  {
   "cell_type": "code",
   "execution_count": 20,
   "metadata": {
    "collapsed": false
   },
   "outputs": [
    {
     "data": {
      "image/png": "[encoded data removed]",
      "text/plain": [
       "<matplotlib.figure.Figure at 0x7f1a660b3710>"
      ]
     },
     "metadata": {},
     "output_type": "display_data"
    }
   ],
   "source": [
    "%matplotlib inline\n",
    "import matplotlib.pyplot as plt\n",
    "import numpy as np\n",
    "\n",
    "X = np.linspace(0, 10)\n",
    "Y = np.cos(X)\n",
    "Z = np.sin(X)\n",
    "plt.plot(X, Y, 'k--')\n",
    "plt.plot(X, Z, 'r-.')\n",
    "\n",
    "plt.show()"
   ]
  },
  {
   "cell_type": "code",
   "execution_count": 2,
   "metadata": {
    "collapsed": false
   },
   "outputs": [
    {
     "data": {
      "text/plain": [
       "[<matplotlib.lines.Line2D at 0x7fefbc5ad090>]"
      ]
     },
     "execution_count": 2,
     "metadata": {},
     "output_type": "execute_result"
    },
    {
     "data": {
      "image/png": "[encoded data removed]",
      "text/plain": [
       "<matplotlib.figure.Figure at 0x7fefded53dd0>"
      ]
     },
     "metadata": {},
     "output_type": "display_data"
    }
   ],
   "source": [
    "# Задание 0:\n",
    "# постройте два графика: exp(x) и log(x)\n",
    "\n",
    "X = np.linspace(1, 10)\n",
    "Y = np.exp(X)\n",
    "\n",
    "plt.plot(X, Y, 'k--')"
   ]
  },
  {
   "cell_type": "code",
   "execution_count": 3,
   "metadata": {
    "collapsed": false
   },
   "outputs": [
    {
     "data": {
      "text/plain": [
       "[<matplotlib.lines.Line2D at 0x7fefbc4edf50>]"
      ]
     },
     "execution_count": 3,
     "metadata": {},
     "output_type": "execute_result"
    },
    {
     "data": {
      "image/png": "[encoded data removed]",
      "text/plain": [
       "<matplotlib.figure.Figure at 0x7fefbc5c3610>"
      ]
     },
     "metadata": {},
     "output_type": "display_data"
    }
   ],
   "source": [
    "Z = np.log(X)\n",
    "plt.plot(X, Z, 'r-.')"
   ]
  },
  {
   "cell_type": "markdown",
   "metadata": {},
   "source": [
    "### Чтение текста\n",
    "В файле `data/lentaru-2015.txt` содержится дамп новостей lenta.ru за 2015 год.\n",
    "\n",
    "Прочитайте содержимое, посчитайте количество уникальных слов и какой длины нужен словарь для покрытия 95% датасета.\n",
    "Выведете список 20 самых употребимых слов, запомните его."
   ]
  },
  {
   "cell_type": "code",
   "execution_count": 80,
   "metadata": {
    "collapsed": true
   },
   "outputs": [],
   "source": [
    "def unique_list(seq):\n",
    "    seen = set()\n",
    "    seen_add = seen.add\n",
    "    return [x for x in seq if not (x in seen or seen_add(x))]"
   ]
  },
  {
   "cell_type": "code",
   "execution_count": 120,
   "metadata": {
    "collapsed": true
   },
   "outputs": [],
   "source": [
    "from collections import Counter\n",
    "import codecs\n",
    "\n",
    "def file2cnt(split=None, unique=False, verbose=False):\n",
    "    split_func = split or None\n",
    "    cnt = Counter()\n",
    "    mini_counter = 0\n",
    "    with codecs.open(\"data/lentaru-2015.txt\", \"r\", \"utf-8\") as fin:\n",
    "        for line in fin:\n",
    "            mini_counter += 1\n",
    "            if split_func:\n",
    "                words = split_func(line) if not unique else unique_list(split_func(line))\n",
    "            else :\n",
    "                words = line.split() if not unique else unique_list(line.split())\n",
    "            cnt.update(words)\n",
    "    print '{} unique words for {} total in dataset - {} lines'.format(len(cnt), sum(cnt.values()), mini_counter)\n",
    "    for (w, f) in cnt.most_common(20):\n",
    "        print w, f\n",
    "    if verbose:\n",
    "        return cnt, mini_counter\n",
    "    else:\n",
    "        return cnt"
   ]
  },
  {
   "cell_type": "code",
   "execution_count": 27,
   "metadata": {
    "collapsed": false
   },
   "outputs": [
    {
     "name": "stdout",
     "output_type": "stream",
     "text": [
      "461013 unique words for 6780579 total in dataset\n",
      "в 277678\n",
      "и 142339\n",
      "на 126993\n",
      "что 68493\n",
      "с 68119\n",
      "— 64658\n",
      "по 52869\n",
      "В 52723\n",
      "не 44890\n",
      "из 31470\n",
      "этом 28171\n",
      "о 27502\n",
      "к 24849\n",
      "за 24081\n",
      "По 22704\n",
      "для 22399\n",
      "Об 20733\n",
      "а 20606\n",
      "от 20347\n",
      "его 20277\n"
     ]
    }
   ],
   "source": [
    "cnt = file2cnt()"
   ]
  },
  {
   "cell_type": "markdown",
   "metadata": {},
   "source": [
    "## Предварительная подготовка\n",
    "Постройте график покрытия от длины словаря. Должно получится что-то подобное:\n",
    "![image](data/naive.png)\n",
    "По оси X отложена длина словаря из n-самых употребимых слов, по оси Y -- доля слов из всего набора, которая описывается словарем.\n",
    "Ошибочный вывод в необходимости словаря длиной 150k-200k слов возникает по нескольким причинам:\n",
    "     \n",
    "     - к словам могут \"прилипать\" знаки препинания\n",
    "     - слова разных регистров считаются разными\n",
    "     - разные словоформы одного слова считаются разными"
   ]
  },
  {
   "cell_type": "markdown",
   "metadata": {},
   "source": []
  },
  {
   "cell_type": "code",
   "execution_count": 124,
   "metadata": {
    "collapsed": true
   },
   "outputs": [],
   "source": [
    "def counter2XY(cnt, text_coverage=True, divide_by=None):\n",
    "    devider = divide_by or None\n",
    "    X = range(len(cnt))\n",
    "    preY = [ x[1] for x in cnt.most_common(len(cnt))]\n",
    "    if text_coverage:\n",
    "        for ind in range(1, len(preY)):\n",
    "            preY[ind] += preY[ind - 1]\n",
    "    max_count = np.sum(cnt.values()) if text_coverage else devider\n",
    "    Y = [float(preY[k])/max_count for k in range(len(preY))]\n",
    "    return X, Y"
   ]
  },
  {
   "cell_type": "code",
   "execution_count": 84,
   "metadata": {
    "collapsed": false
   },
   "outputs": [],
   "source": [
    "def plotCounter(cnt):\n",
    "    plt.plot(counter2XY(cnt))\n",
    "    plt.xlabel('dictionary size')\n",
    "    plt.ylabel('% text coverage')"
   ]
  },
  {
   "cell_type": "code",
   "execution_count": 29,
   "metadata": {
    "collapsed": false
   },
   "outputs": [
    {
     "data": {
      "image/png": "[encoded data removed]",
      "text/plain": [
       "<matplotlib.figure.Figure at 0x7f1a7688ec90>"
      ]
     },
     "metadata": {},
     "output_type": "display_data"
    }
   ],
   "source": [
    "plotCounter(cnt)"
   ]
  },
  {
   "cell_type": "code",
   "execution_count": 30,
   "metadata": {
    "collapsed": false
   },
   "outputs": [
    {
     "name": "stdout",
     "output_type": "stream",
     "text": [
      "мир!\n",
      "Привет\n",
      "Привет,\n",
      "мир.\n"
     ]
    }
   ],
   "source": [
    "s = u\"Привет, мир! Привет мир.\"\n",
    "for w in set(s.split()):\n",
    "    print w"
   ]
  },
  {
   "cell_type": "markdown",
   "metadata": {},
   "source": [
    "### Задание первое\n",
    "1. Устраните проблему со знаками препинания и регистром. Напишите функцию, принимающую строку, и возращающую правильную разбивку на слова. \n",
    "2. Постройте график покрытия. \n",
    "\n",
    "\n",
    "### NB\n",
    "Обратите внимание на наличие в python 2.x двух типов строк: string и unicode.\n",
    "\n",
    "Кириллица будет корректно отображаться в ipython notebook, но некоторые функции будут показывать странное поведение."
   ]
  },
  {
   "cell_type": "code",
   "execution_count": 31,
   "metadata": {
    "collapsed": false
   },
   "outputs": [
    {
     "name": "stdout",
     "output_type": "stream",
     "text": [
      "Привет мир -> Привет мир\n",
      "<type 'str'>\n",
      "False\n",
      "False\n",
      "Привет мир -> привет мир\n",
      "<type 'unicode'>\n",
      "True\n",
      "False\n"
     ]
    }
   ],
   "source": [
    "a = 'Привет мир'\n",
    "print \"{} -> {}\".format(a, a.lower())\n",
    "print type(a)\n",
    "# проверка, присутствуют ли в содержимом только буквы и цифры:\n",
    "print 'Привет'.isalnum()\n",
    "print 'Привет!'.isalnum()\n",
    "\n",
    "b = u'Привет мир'\n",
    "print u\"{} -> {}\".format(b, b.lower())\n",
    "print type(b)\n",
    "print u'Привет'.isalnum()\n",
    "print u'Привет!'.isalnum()"
   ]
  },
  {
   "cell_type": "code",
   "execution_count": 59,
   "metadata": {
    "collapsed": false
   },
   "outputs": [
    {
     "name": "stdout",
     "output_type": "stream",
     "text": [
      "привет\n",
      "мир\n",
      "привет\n",
      "мир\n"
     ]
    }
   ],
   "source": [
    "# Задание 1.0:\n",
    "# перепишите функцию new_split:\n",
    "\n",
    "import string\n",
    "\n",
    "translation_table = dict.fromkeys(map(ord, string.punctuation), None)\n",
    "\n",
    "sample = u\"Привет, мир! Привет мир.\"\n",
    "def new_split(s):\n",
    "    try:\n",
    "        s = s.lower().translate(translation_table)\n",
    "    except:\n",
    "        s = s.lower().translate(None, string.punctuation)\n",
    "    return s.split()\n",
    "\n",
    "check = new_split(sample)\n",
    "print u\"\\n\".join(check)\n",
    "\n",
    "# правильно работающая функция пройдет проверку:\n",
    "assert len(check) == 4 and len(set(check)) == 2, 'Something wrong'"
   ]
  },
  {
   "cell_type": "code",
   "execution_count": 62,
   "metadata": {
    "collapsed": false
   },
   "outputs": [
    {
     "name": "stdout",
     "output_type": "stream",
     "text": [
      "295496 unique words for 6778787 total in dataset\n",
      "в 331620\n",
      "и 144064\n",
      "на 135879\n",
      "по 76005\n",
      "с 72081\n",
      "что 69598\n",
      "— 64668\n",
      "не 45399\n",
      "года 33945\n",
      "из 32205\n",
      "этом 29379\n",
      "о 29305\n",
      "об 27022\n",
      "за 26969\n",
      "к 26270\n",
      "он 24908\n",
      "для 24204\n",
      "россии 23749\n",
      "как 23636\n",
      "его 22497\n"
     ]
    },
    {
     "data": {
      "image/png": "[encoded data removed]",
      "text/plain": [
       "<matplotlib.figure.Figure at 0x7f1a63ca5050>"
      ]
     },
     "metadata": {},
     "output_type": "display_data"
    }
   ],
   "source": [
    "# Задание 1.5:\n",
    "# постройте график доля покрытия текста vs. количество самых употребимых слов\n",
    "\n",
    "words_counter = file2cnt(new_split)\n",
    "\n",
    "plotCounter(words_counter)"
   ]
  },
  {
   "cell_type": "markdown",
   "metadata": {},
   "source": [
    "\n",
    "\n",
    "## Задание второе\n",
    "Решите проблему с разными словоформами.\n",
    "\n",
    "1. Установите и запустите pymorphy2 (http://pymorphy2.readthedocs.org/en/latest/index.html)\n",
    "2. Модифицируйте разбор строк так, чтобы разные словоформы одного слова считались одним\n",
    "3. Постройте график покрытия"
   ]
  },
  {
   "cell_type": "code",
   "execution_count": 63,
   "metadata": {
    "collapsed": false
   },
   "outputs": [
    {
     "name": "stdout",
     "output_type": "stream",
     "text": [
      "привет привет NOUN,inan,masc sing,nomn 0.8\n",
      "привет привет NOUN,inan,masc sing,accs 0.2\n"
     ]
    }
   ],
   "source": [
    "# Задание 2.0\n",
    "# Уставновите pymorphy2, убедитесь, что он работает\n",
    "import pymorphy2\n",
    "morph = pymorphy2.MorphAnalyzer()\n",
    "\n",
    "for x in morph.parse(u'привет'):\n",
    "    print x.word, x.normal_form, x.tag, x.score"
   ]
  },
  {
   "cell_type": "markdown",
   "metadata": {},
   "source": [
    "### NB\n",
    "\n",
    "Обратите внимание на возможную омонимию, разный смысл слов с одинаковым написанием.\n",
    "Для ее разрешения требуются дополнительные соображения.\n",
    "\n",
    "В данном задании снимать неоднозначности не требуется и можно брать первый предлагаемый вариант.\n",
    "Score для разных вариантов предлагается по частоте употребления в тренировочном корпусе pymorphy2."
   ]
  },
  {
   "cell_type": "code",
   "execution_count": 64,
   "metadata": {
    "collapsed": false
   },
   "outputs": [
    {
     "name": "stdout",
     "output_type": "stream",
     "text": [
      "стали стать VERB,perf,intr plur,past,indc 0.984662\n",
      "стали сталь NOUN,inan,femn sing,gent 0.003067\n",
      "стали сталь NOUN,inan,femn sing,datv 0.003067\n",
      "стали сталь NOUN,inan,femn sing,loct 0.003067\n",
      "стали сталь NOUN,inan,femn plur,nomn 0.003067\n",
      "стали сталь NOUN,inan,femn plur,accs 0.003067\n"
     ]
    }
   ],
   "source": [
    "for x in morph.parse(u'стали'):\n",
    "    print x.word, x.normal_form, x.tag, x.score"
   ]
  },
  {
   "cell_type": "code",
   "execution_count": 65,
   "metadata": {
    "collapsed": false
   },
   "outputs": [],
   "source": [
    "# Задание 2.3\n",
    "\n",
    "translation_table = dict.fromkeys(map(ord, ',?.!/;:'), None)\n",
    "\n",
    "sample = u\"был быть есть стал стали\"\n",
    "def morphy_split(s):\n",
    "    try:\n",
    "        s = s.lower().translate(translation_table)\n",
    "    except:\n",
    "        s = s.lower().translate(None, ',?.!/;:')\n",
    "    res = [ morph.parse(word)[0].normal_form for word in s.split() ]\n",
    "    return res\n",
    "\n",
    "sample_check = morphy_split(sample)\n",
    "assert len(sample_check) == 5 and len(set(sample_check)) == 3, 'Something wrong'"
   ]
  },
  {
   "cell_type": "code",
   "execution_count": 66,
   "metadata": {
    "collapsed": false
   },
   "outputs": [
    {
     "name": "stdout",
     "output_type": "stream",
     "text": [
      "183496 unique words for 6780310 total in dataset\n",
      "в 340388\n",
      "и 143975\n",
      "на 135454\n",
      "с 83002\n",
      "по 75671\n",
      "что 71478\n",
      "год 66183\n",
      "— 64662\n",
      "быть 63210\n",
      "о 56260\n",
      "он 54312\n",
      "это 51996\n",
      "не 45328\n",
      "который 39239\n",
      "из 32151\n",
      "россия 29514\n",
      "за 26841\n",
      "к 26482\n",
      "для 24114\n",
      "тот 24070\n"
     ]
    },
    {
     "data": {
      "image/png": "[encoded data removed]",
      "text/plain": [
       "<matplotlib.figure.Figure at 0x7f1a63cfca10>"
      ]
     },
     "metadata": {},
     "output_type": "display_data"
    }
   ],
   "source": [
    "# Задание 2.7\n",
    "# Пересчитайте разбивку на слова с новой функцией и постройте график покрытия\n",
    "\n",
    "morph_word_counter = file2cnt(morphy_split)\n",
    "plotCounter(morph_word_counter)"
   ]
  },
  {
   "cell_type": "markdown",
   "metadata": {},
   "source": [
    "### Задание третье\n",
    "\n",
    "Самые употребимые слова часто бесполезны для анализа и их заносят в стоп-лист. Одним из простых показателем для отнесения слова к стоп-словам является количество документов, содержащих это слово. Документом в данном случае считаем строчку в дампе.\n",
    "\n",
    "1. Определите количество документов содержащих каждое уникальное слов.\n",
    "2. Постройте график частоты употребления и встречаемости самых частотных слов.\n",
    "3. Сравните список самых частотных слов с первоначальным, почему так получилось? Предложите вариант решения проблемы.\n",
    "![image](data/tf-df.png)"
   ]
  },
  {
   "cell_type": "code",
   "execution_count": 121,
   "metadata": {
    "collapsed": false,
    "scrolled": true
   },
   "outputs": [
    {
     "name": "stdout",
     "output_type": "stream",
     "text": [
      "183496 unique words for 4702583 total in dataset - 35123 lines\n",
      "в 34728\n",
      "и 33045\n",
      "на 32988\n",
      "с 30066\n",
      "по 28980\n",
      "о 28235\n",
      "это 28194\n",
      "— 27349\n",
      "что 26861\n",
      "быть 26825\n",
      "год 25143\n",
      "он 22629\n",
      "который 22336\n",
      "не 22135\n",
      "из 18765\n",
      "сообщать 16523\n",
      "к 16433\n",
      "за 16092\n",
      "как 16082\n",
      "тот 16043\n",
      "183496 unique words for 6780310 total in dataset - 35123 lines\n",
      "в 340388\n",
      "и 143975\n",
      "на 135454\n",
      "с 83002\n",
      "по 75671\n",
      "что 71478\n",
      "год 66183\n",
      "— 64662\n",
      "быть 63210\n",
      "о 56260\n",
      "он 54312\n",
      "это 51996\n",
      "не 45328\n",
      "который 39239\n",
      "из 32151\n",
      "россия 29514\n",
      "за 26841\n",
      "к 26482\n",
      "для 24114\n",
      "тот 24070\n"
     ]
    }
   ],
   "source": [
    "# Задание 3.0\n",
    "# Для каждого слова посчитайте количество документов, где оно употребляется и количество употреблений во всем корпусе.\n",
    "# Абсолютные значения зависят от размеров корпуса, поэтому переведите количества в частоту употребления\n",
    "inverse_document_counter, documents_number = file2cnt(morphy_split, unique=True, verbose=True)\n",
    "term_counter, documents_number = file2cnt(morphy_split, verbose=True)\n",
    "\n",
    "# inverse_document_frequency = ...\n",
    "# term_frequency = ...\n"
   ]
  },
  {
   "cell_type": "code",
   "execution_count": 122,
   "metadata": {
    "collapsed": true
   },
   "outputs": [],
   "source": [
    "term_frequency_X, term_frequency_Y = counter2XY(term_counter, \n",
    "                                                text_coverage=True, \n",
    "                                                divide_by=documents_number)"
   ]
  },
  {
   "cell_type": "code",
   "execution_count": 125,
   "metadata": {
    "collapsed": false
   },
   "outputs": [],
   "source": [
    "document_frequency_X, document_frequency_Y = counter2XY(inverse_document_counter, \n",
    "                                                        text_coverage=False, \n",
    "                                                        divide_by=documents_number)"
   ]
  },
  {
   "cell_type": "code",
   "execution_count": 126,
   "metadata": {
    "collapsed": false
   },
   "outputs": [
    {
     "data": {
      "text/plain": [
       "[<matplotlib.lines.Line2D at 0x7f1a6364eb10>]"
      ]
     },
     "execution_count": 126,
     "metadata": {},
     "output_type": "execute_result"
    },
    {
     "data": {
      "image/png": "[encoded data removed]",
      "text/plain": [
       "<matplotlib.figure.Figure at 0x7f1a6364eed0>"
      ]
     },
     "metadata": {},
     "output_type": "display_data"
    }
   ],
   "source": [
    "plt.plot(term_frequency_X[:100], term_frequency_Y[:100], 'r')\n",
    "plt.plot(document_frequency_X[:100], document_frequency_Y[:100], 'b')"
   ]
  },
  {
   "cell_type": "code",
   "execution_count": null,
   "metadata": {
    "collapsed": true
   },
   "outputs": [],
   "source": [
    "# Задание 3.3\n",
    "# Постройте совместно графики term-frequency и document-frequency для топ-20 топ-100 слов\n",
    "\n",
    "plt.figure()\n",
    "plt.plot(...)\n",
    "plt.plot(...)\n",
    "plt.show()"
   ]
  },
  {
   "cell_type": "code",
   "execution_count": null,
   "metadata": {
    "collapsed": true
   },
   "outputs": [],
   "source": [
    "# Задание 3.66\n",
    "# Выведете топ-20 самых употребимых слов и ответьте на вопросы в следующей ячейке\n"
   ]
  },
  {
   "cell_type": "markdown",
   "metadata": {},
   "source": [
    "Отличается ли новый список самых употребимых слов от первоначального?\n",
    "\n",
    "> Нет. И вот почему ...\n",
    "> Да?. И вот почему ...\n",
    "\n",
    "Для чего мы можем использовать словарь с частотами?\n",
    "\n",
    "Какие есть недостатки в посчитанных нами словарях?\n",
    "\n",
    "Предложите как модернизировать процедуру подсчета, чтобы устранить недостатки.\n"
   ]
  },
  {
   "cell_type": "markdown",
   "metadata": {},
   "source": [
    "## Рекомендации\n",
    "1. Progressbar. При разборе большого файла или массива удобно знать что происходит и с какой скоростью.\n",
    "    Для этого можно использовать пакет tqdm.\n",
    "2. Toy dataset. Удобно тренироваться на маленьком кусочке текста, который быстро обрабатывается, а результат можно просмотреть глазами. Такой можно сделать, например с помощью команды в ячейке `! head data/lentaru-2015.txt data/toy.txt`.\n",
    "        \n",
    "        "
   ]
  },
  {
   "cell_type": "code",
   "execution_count": 25,
   "metadata": {
    "collapsed": false
   },
   "outputs": [
    {
     "name": "stderr",
     "output_type": "stream",
     "text": []
    },
    {
     "name": "stdout",
     "output_type": "stream",
     "text": [
      "Президент России Владимир Путин в новогоднем обращении, которое транслировали федеральные телеканалы, пожелал россиянам эффективно и творчески трудиться для того, чтобы сделать год таким, каким им хочется. В наступающем году «нам вместе предстоит решить немало задач», а «год будет таким, каким мы сами его сделаем, насколько эффективно, творчески, результативно будет трудиться каждый из нас; других рецептов просто нет», — считает президент. Глава государства также поблагодарил граждан страны, в том числе жителей Крыма, «за сплоченность и солидарность, за глубокие чувства правды, чести, справедливости, ответственности за судьбу своей страны, за неизменную готовность отстаивать интересы России, быть вместе с ней и в дни триумфа, и в пору испытаний, добиваться исполнения наших самых смелых и масштабных планов». Среди таких проектов Путин назвал Олимпийские игры в Сочи. «Мы не только подготовили и провели лучшую в истории зимнюю Олимпиаду, но и победили в ней», — напомнил он. Президент также предложил россиянам передать «самые теплые слова своим близким, сказать им спасибо за понимание и надежность, за терпение и заботу». «Чем больше будет доброты и любви, тем увереннее и сильнее мы будем, а значит, и успеха обязательно добьемся», — добавил Путин.\r\n",
      "По меньшей мере 35 человек погибли в Шанхае в давке в районе набережной Вайтань, где около полуночи для празднования Нового года собралась толпа. Об этом сообщило правительство крупнейшего города КНР, передает ShanghaiDaily. Пострадали еще свыше 40 человек. Причины возникновения давки устанавливаются. Не исключено, что она возникла в тот момент, когда к площади Чэнь И (первый мэр Шанхая — прим. «Ленты.ру») на набережной реки Хуанпу устремились значительные скопления людей, отмечает ТАСС. В 2013 году на новогоднее шоу в районе набережной собралось порядка 300 тысяч человек. Тогда это обернулось транспортным коллапсом. В 2014 году власти мегаполиса, чтобы избежать повторения ситуации, решили перенести мероприятие в другое место и сделать его гораздо менее масштабным. \r\n",
      "С 1 января в российские бюллетени вернулась графа «против всех». Об этом сообщает «Лента.ру» со ссылкой на соответствующие статьи_ законодательства РФ, опубликованные на официальном сайте президента России. Пока выразить недоверие сразу всем кандидатам граждане смогут только на местных выборах. Поправки в законы «Об обеспечении конституционных прав граждан РФ избирать и быть избранными в органы местного самоуправления» и «Об основных гарантиях избирательных прав и права на участие в референдуме граждан РФ» были предложены группой сенаторов. В их числе — спикер палаты Валентина Матвиенко, первый вице-спикер Александр Торшин и председатель конституционного комитета Андрей Клишас. Теперь выборы будут признаны несостоявшимися, если против всех в конкретном округе проголосуют больше избирателей, чем за кандидата, набравшего наибольшее число голосов. Местный избирком в этом случае должен назначить повторные выборы на тех же условиях. Графа «против всех» была отменена в России в 2006 году на выборах всех уровней: федеральном, региональном и местном.   \r\n",
      "Ставка минимального размера оплаты труда (МРОТ) в Москве повысилась 1 января 2015 года и составила 14,5 тысячи рублей. Соответствующий документ опубликован на сайте столичного правительства. Еще раз МРОТ повысится 1 апреля. Тогда минимальная зарплата составит 15 тысяч рублей. Договоренность о повышении МРОТ в Москве достигли в конце декабря мэр Сергей Собянин совместно с председателем городского объединения профсоюзов Сергеем Черновым и председателем московской конфедерации работодателей Евгением Павшиным. В 2014 году минимальная зарплата в столице также повышалась дважды: 1 января она составила 12,6 тысячи рублей, а летом поднялась до 14 тысяч рублей. В России в 2015 году минимальная зарплата увеличена до 5 965 рублей (ранее была 5 554 рублей). При этом прожиточный минимум в стране составляет 8 192 рубля. Повышение МРОТ в Министерстве труда и соцзащиты России объяснили необходимостью поправки на инфляцию. Согласно планам правительства РФ, минимальная зарплата и прожиточный минимум должны сравняться в 2018 году.\r\n",
      "Литва официально перешла на единую европейскую валюту. До середины года цены продолжат указывать одновременно в евро и литах. Как сообщал портал Delfi.lt, решение о переходе было принято 23 июля 2014 года. Тогда Еврокомиссия и Европейский центральный банк (ЕЦБ) заявили, что Литва выполнила все условия для введения евро и с 1 января 2015 года станет 19-м членом еврозоны. 23 декабря президент Даля Грибаускайте подписала государственный бюджет в евро. При этом доходы государственной казны на год составляют 7,98 миллиарда евро, расходы — 8,33 миллиарда евро. Грибаускайте заявляла, что утвержденный бюджет ориентирован на сокращение социального разрыва и увеличивает финансирование обороны государства. Обмен литов на евро будет осуществляться, в частности, в коммерческих банках, почтовых отделениях, кассах Центрального банка Литвы. «По сути, евро у нас был уже более 12 лет, только он назывался литом», — отмечал в конце декабря министр финансов Литвы Римантас Шаджюс. Он добавил, что с 2002 года лит был привязан к евро и, по сути, зависел от Европейского центрального банка.\r\n",
      "В Москве 1 января начала работу база данных пропавших людей. Речь идет о людях, которые поступили в больницы, а личность их не может быть идентифицирована, местонахождение родственникам и близким неизвестно. Система поиска людей работает на базе портала «Найди_меня». Среди прочего на сайте появляется информация о росте, весе, примерном возрасте, одежде, личных вещах, месте обнаружения, месте нахождения людей. Данные также направляются в органы внутренних дел и волонтерам, оказывающим помощь в поиске пропавших. В связи с конфиденциальностью информации, доступ к фотографиям людей ограничен. Однако, родные и близкие могут получить разовый доступ к изображению пациента. Для этого на сайте нужно нажать кнопку «…» и выбрать пункт меню «запросить фотографию». Пользователь сможет выбрать один из трех вариантов дальнейших действий — обратиться в ближайший МФЦ, где доступ к фотографии предоставят по письменному запросу, обратиться в единое окно департамента здравоохранения или пройти авторизацию через портал государственных услуг Москвы. По данным московских властей, в городе ежегодно пропадают около 3,5 тысяч людей. Ежедневно в городские больницы попадает более 60 человек, которые ничего не могут сообщить о себе.\r\n",
      "Президент Украины Петр Порошенко в своем новогоднем обращении_напомнил гражданам о «злейшем враге» страны, который, по его словам, посягнул на независимость и территорию Украины. При этом Порошенко выразил уверенность в том, что новую «Отечественную войну» Украина обязательно выиграет. «Я благодарю каждого за вклад в защиту страны», — сказал президент. Он также предсказал, что 2015-й год войдет в историю «как год старта глубинных реформ», которые откроют Украине путь к членству в Евросоюзе. «Это наша мечта, которую мы вместе воплотим в жизнь», — отметил Порошенко. Ранее Порошенко также неоднократно заявлял, что Россия является агрессором. В Киеве также неоднократно утверждали, что именно Кремль оказывает различную поддержку ополченцам Донбасса и, таким образом, способствует конфликту на востоке Украины. В Москве подобные заявления последовательно опровергали.\r\n",
      "Шесть человек, в том числе ребенок, погибли в результате ДТП в Ленинградской области, сообщает «Интерфакс». По данным регионального управления ГИБДД, незадолго до наступления Нового года на 4-ом километре объездной трассы Самойлово — Зиновьева гора столкнулись легковые Dodge и Opel Corsa. В результате удара в Dodge возник пожар, в котором погибли водитель и пятеро пассажиров, в том числе 9-летний ребенок. Состояние водителя Opel оценивается как среднее, сообщили автоинспекторы. Виновник аварии пока не установлен.\r\n",
      "Бывший гитарист Guns N'Roses Слэш (Сол Хадсон) подал на развод со своей женой Перлой. Об этом сообщает Associated_Press. Согласно направленным в суд в Лос-Анджелесе во вторник, 30 декабря, документам, в качестве причины для расторжения брака музыкант назвал непримиримые противоречия в отношениях с супругой. В заявлении указывается, что пара рассталась в июне. По данным TMZ, музыкант требует назначить совместную опеку над их сыновьями — десятилетним Кэшом и 12-летним Лондоном. Слэш и Перла Хадсон (в девичестве  — Перла Феррар) женаты с 2001 года. В 2010-м музыкант уже подавал на развод, но через несколько месяцев отозвал ходатайство. Слэшу сейчас 49 лет, Перла младше его на 10 лет. Для гитариста брак с Феррар, которая является его менеджером, второй по счету. С 1992 по 1997 год он был женат на актрисе Рене Суран (Renée Suran). Слэш был лид-гитаристом американской хард-рок-группы Guns N' Roses (1985—1996). Позднее он стал сооснователем группы Velvet Revolver. В 2008 году начал сольную карьеру, его третий и последний на данный момент альбом — World on Fire — вышел осенью 2014 года.\r\n",
      "Северокорейский лидер Ким Чен Ын заявил о готовности к встрече с президентом Южной Кореи Пак Кын Хе в начавшемся 2015-ом году. Об этом сообщает южнокорейское агентство Yonhap со ссылкой на праздничное обращение руководителя КНДР, с которым он традиционно выступает в первый день нового года. По словам руководителя КНДР, в отношениях двух Корей необходимы большие перемены, при этом для межкорейского саммита нужен соответствующий настрой и условия. Как отметил Ким Чен Ын, двусторонние переговоры на высшем уровне и консультации в другом формате могут быть возобновлены, если Юг действительно стремится к улучшению отношений путем диалога. Ранее на этой неделе совет по воссоединению при президенте Южной Корее предложил провести переговоры на министерском уровне в январе. Отношения между КНДР и Южной Кореей в очередной раз обострились в середине октября после того, как патрульные катера двух стран вступили в перестрелку в Желтом море из-за нарушения северокорейским кораблем демаркационной линии. Де-юре Корейский полуостров находится в состоянии войны, поскольку Корейская война 1950-1953 годов закончилась перемирием, а не мирным договором между Сеулом и Пхеньяном.\r\n"
     ]
    }
   ],
   "source": [
    "from tqdm import tqdm\n",
    "import time\n",
    "\n",
    "for x in tqdm(range(100)):\n",
    "    time.sleep(0.1)\n",
    "    \n",
    "! head data/lentaru-2015.txt"
   ]
  },
  {
   "cell_type": "code",
   "execution_count": null,
   "metadata": {
    "collapsed": true
   },
   "outputs": [],
   "source": []
  }
 ],
 "metadata": {
  "kernelspec": {
   "display_name": "Python 2",
   "language": "python",
   "name": "python2"
  },
  "language_info": {
   "codemirror_mode": {
    "name": "ipython",
    "version": 2
   },
   "file_extension": ".py",
   "mimetype": "text/x-python",
   "name": "python",
   "nbconvert_exporter": "python",
   "pygments_lexer": "ipython2",
   "version": "2.7.11"
  }
 },
 "nbformat": 4,
 "nbformat_minor": 0
}
